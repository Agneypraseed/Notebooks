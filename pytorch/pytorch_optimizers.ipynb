{
 "cells": [
  {
   "cell_type": "markdown",
   "metadata": {},
   "source": [
    "### CrossEntropyLoss and SGD"
   ]
  },
  {
   "cell_type": "code",
   "execution_count": 1,
   "metadata": {},
   "outputs": [],
   "source": [
    "import torch\n",
    "from torch import nn\n",
    "from torch.utils.data import DataLoader\n",
    "from torchvision import datasets\n",
    "from torchvision.transforms import ToTensor"
   ]
  },
  {
   "cell_type": "code",
   "execution_count": 2,
   "metadata": {},
   "outputs": [
    {
     "name": "stdout",
     "output_type": "stream",
     "text": [
      "Downloading http://fashion-mnist.s3-website.eu-central-1.amazonaws.com/train-images-idx3-ubyte.gz\n",
      "Downloading http://fashion-mnist.s3-website.eu-central-1.amazonaws.com/train-images-idx3-ubyte.gz to data\\FashionMNIST\\raw\\train-images-idx3-ubyte.gz\n"
     ]
    },
    {
     "name": "stderr",
     "output_type": "stream",
     "text": [
      "100.0%\n"
     ]
    },
    {
     "name": "stdout",
     "output_type": "stream",
     "text": [
      "Extracting data\\FashionMNIST\\raw\\train-images-idx3-ubyte.gz to data\\FashionMNIST\\raw\n",
      "\n",
      "Downloading http://fashion-mnist.s3-website.eu-central-1.amazonaws.com/train-labels-idx1-ubyte.gz\n",
      "Downloading http://fashion-mnist.s3-website.eu-central-1.amazonaws.com/train-labels-idx1-ubyte.gz to data\\FashionMNIST\\raw\\train-labels-idx1-ubyte.gz\n"
     ]
    },
    {
     "name": "stderr",
     "output_type": "stream",
     "text": [
      "100.0%\n"
     ]
    },
    {
     "name": "stdout",
     "output_type": "stream",
     "text": [
      "Extracting data\\FashionMNIST\\raw\\train-labels-idx1-ubyte.gz to data\\FashionMNIST\\raw\n",
      "\n",
      "Downloading http://fashion-mnist.s3-website.eu-central-1.amazonaws.com/t10k-images-idx3-ubyte.gz\n",
      "Downloading http://fashion-mnist.s3-website.eu-central-1.amazonaws.com/t10k-images-idx3-ubyte.gz to data\\FashionMNIST\\raw\\t10k-images-idx3-ubyte.gz\n"
     ]
    },
    {
     "name": "stderr",
     "output_type": "stream",
     "text": [
      "100.0%\n"
     ]
    },
    {
     "name": "stdout",
     "output_type": "stream",
     "text": [
      "Extracting data\\FashionMNIST\\raw\\t10k-images-idx3-ubyte.gz to data\\FashionMNIST\\raw\n",
      "\n",
      "Downloading http://fashion-mnist.s3-website.eu-central-1.amazonaws.com/t10k-labels-idx1-ubyte.gz\n",
      "Downloading http://fashion-mnist.s3-website.eu-central-1.amazonaws.com/t10k-labels-idx1-ubyte.gz to data\\FashionMNIST\\raw\\t10k-labels-idx1-ubyte.gz\n"
     ]
    },
    {
     "name": "stderr",
     "output_type": "stream",
     "text": [
      "100.0%"
     ]
    },
    {
     "name": "stdout",
     "output_type": "stream",
     "text": [
      "Extracting data\\FashionMNIST\\raw\\t10k-labels-idx1-ubyte.gz to data\\FashionMNIST\\raw\n",
      "\n"
     ]
    },
    {
     "name": "stderr",
     "output_type": "stream",
     "text": [
      "\n"
     ]
    }
   ],
   "source": [
    "training_data = datasets.FashionMNIST(\n",
    "    root=\"data\",\n",
    "    train=True,\n",
    "    download=True,\n",
    "    transform=ToTensor()\n",
    ")\n",
    "\n",
    "test_data = datasets.FashionMNIST(\n",
    "    root=\"data\",\n",
    "    train=False,\n",
    "    download=True,\n",
    "    transform=ToTensor()\n",
    ")\n",
    "\n",
    "train_dataloader = DataLoader(training_data, batch_size=64)\n",
    "test_dataloader = DataLoader(test_data, batch_size=64)\n",
    "\n",
    "class NeuralNetwork(nn.Module):\n",
    "    def __init__(self):\n",
    "        super().__init__()\n",
    "        self.flatten = nn.Flatten()\n",
    "        self.linear_relu_stack = nn.Sequential(\n",
    "            nn.Linear(28*28, 512),\n",
    "            nn.ReLU(),\n",
    "            nn.Linear(512, 512),\n",
    "            nn.ReLU(),\n",
    "            nn.Linear(512, 10),\n",
    "        )\n",
    "\n",
    "    def forward(self, x):\n",
    "        x = self.flatten(x)\n",
    "        logits = self.linear_relu_stack(x)\n",
    "        return logits\n",
    "\n",
    "model = NeuralNetwork()"
   ]
  },
  {
   "cell_type": "code",
   "execution_count": 3,
   "metadata": {},
   "outputs": [],
   "source": [
    "learning_rate = 1e-3\n",
    "batch_size = 64\n",
    "epochs = 5"
   ]
  },
  {
   "cell_type": "code",
   "execution_count": 4,
   "metadata": {},
   "outputs": [],
   "source": [
    "loss_fn = nn.CrossEntropyLoss()"
   ]
  },
  {
   "cell_type": "code",
   "execution_count": 5,
   "metadata": {},
   "outputs": [],
   "source": [
    "optimizer = torch.optim.SGD(model.parameters(), lr=learning_rate)"
   ]
  },
  {
   "cell_type": "code",
   "execution_count": 6,
   "metadata": {},
   "outputs": [],
   "source": [
    "def train_loop(dataloader, model, loss_fn, optimizer):\n",
    "    size = len(dataloader.dataset)\n",
    "    model.train()\n",
    "    for batch, (X, y) in enumerate(dataloader):\n",
    "        # Compute prediction and loss\n",
    "        pred = model(X)\n",
    "        loss = loss_fn(pred, y)\n",
    "\n",
    "        # Backpropagation\n",
    "        loss.backward()\n",
    "        optimizer.step()\n",
    "        optimizer.zero_grad()\n",
    "\n",
    "        if batch % 100 == 0:\n",
    "            loss, current = loss.item(), batch * batch_size + len(X)\n",
    "            print(f\"loss: {loss:>7f}  [{current:>5d}/{size:>5d}]\")"
   ]
  },
  {
   "cell_type": "code",
   "execution_count": 7,
   "metadata": {},
   "outputs": [],
   "source": [
    "\n",
    "def test_loop(dataloader, model, loss_fn):\n",
    "    model.eval()\n",
    "    size = len(dataloader.dataset)\n",
    "    num_batches = len(dataloader)\n",
    "    test_loss, correct = 0, 0\n",
    "\n",
    "    \n",
    "    with torch.no_grad():\n",
    "        for X, y in dataloader:\n",
    "            pred = model(X)\n",
    "            test_loss += loss_fn(pred, y).item()\n",
    "            correct += (pred.argmax(1) == y).type(torch.float).sum().item()\n",
    "\n",
    "    test_loss /= num_batches\n",
    "    correct /= size\n",
    "    print(f\"Test Error: \\n Accuracy: {(100*correct):>0.1f}%, Avg loss: {test_loss:>8f} \\n\")"
   ]
  },
  {
   "cell_type": "code",
   "execution_count": 8,
   "metadata": {},
   "outputs": [
    {
     "name": "stdout",
     "output_type": "stream",
     "text": [
      "Epoch 1\n",
      "-------------------------------\n",
      "loss: 2.312618  [   64/60000]\n",
      "loss: 2.294414  [ 6464/60000]\n",
      "loss: 2.269640  [12864/60000]\n",
      "loss: 2.256486  [19264/60000]\n",
      "loss: 2.246630  [25664/60000]\n",
      "loss: 2.211239  [32064/60000]\n",
      "loss: 2.226089  [38464/60000]\n",
      "loss: 2.193955  [44864/60000]\n",
      "loss: 2.185319  [51264/60000]\n",
      "loss: 2.152891  [57664/60000]\n",
      "Test Error: \n",
      " Accuracy: 45.1%, Avg loss: 2.152213 \n",
      "\n",
      "Epoch 2\n",
      "-------------------------------\n",
      "loss: 2.170390  [   64/60000]\n",
      "loss: 2.152930  [ 6464/60000]\n",
      "loss: 2.097422  [12864/60000]\n",
      "loss: 2.105642  [19264/60000]\n",
      "loss: 2.063843  [25664/60000]\n",
      "loss: 2.002007  [32064/60000]\n",
      "loss: 2.032967  [38464/60000]\n",
      "loss: 1.963428  [44864/60000]\n",
      "loss: 1.956563  [51264/60000]\n",
      "loss: 1.886782  [57664/60000]\n",
      "Test Error: \n",
      " Accuracy: 58.3%, Avg loss: 1.889436 \n",
      "\n",
      "Epoch 3\n",
      "-------------------------------\n",
      "loss: 1.932750  [   64/60000]\n",
      "loss: 1.888644  [ 6464/60000]\n",
      "loss: 1.780700  [12864/60000]\n",
      "loss: 1.805929  [19264/60000]\n",
      "loss: 1.708668  [25664/60000]\n",
      "loss: 1.664191  [32064/60000]\n",
      "loss: 1.683209  [38464/60000]\n",
      "loss: 1.603867  [44864/60000]\n",
      "loss: 1.610438  [51264/60000]\n",
      "loss: 1.502420  [57664/60000]\n",
      "Test Error: \n",
      " Accuracy: 61.6%, Avg loss: 1.527965 \n",
      "\n",
      "Epoch 4\n",
      "-------------------------------\n",
      "loss: 1.606172  [   64/60000]\n",
      "loss: 1.556281  [ 6464/60000]\n",
      "loss: 1.416981  [12864/60000]\n",
      "loss: 1.469739  [19264/60000]\n",
      "loss: 1.357074  [25664/60000]\n",
      "loss: 1.357910  [32064/60000]\n",
      "loss: 1.368736  [38464/60000]\n",
      "loss: 1.317011  [44864/60000]\n",
      "loss: 1.332744  [51264/60000]\n",
      "loss: 1.227795  [57664/60000]\n",
      "Test Error: \n",
      " Accuracy: 63.2%, Avg loss: 1.262199 \n",
      "\n",
      "Epoch 5\n",
      "-------------------------------\n",
      "loss: 1.348738  [   64/60000]\n",
      "loss: 1.317352  [ 6464/60000]\n",
      "loss: 1.161478  [12864/60000]\n",
      "loss: 1.248415  [19264/60000]\n",
      "loss: 1.124996  [25664/60000]\n",
      "loss: 1.154154  [32064/60000]\n",
      "loss: 1.171773  [38464/60000]\n",
      "loss: 1.135134  [44864/60000]\n",
      "loss: 1.154644  [51264/60000]\n",
      "loss: 1.064305  [57664/60000]\n",
      "Test Error: \n",
      " Accuracy: 64.6%, Avg loss: 1.094490 \n",
      "\n",
      "Epoch 6\n",
      "-------------------------------\n",
      "loss: 1.172502  [   64/60000]\n",
      "loss: 1.163658  [ 6464/60000]\n",
      "loss: 0.989576  [12864/60000]\n",
      "loss: 1.109198  [19264/60000]\n",
      "loss: 0.983134  [25664/60000]\n",
      "loss: 1.017198  [32064/60000]\n",
      "loss: 1.050872  [38464/60000]\n",
      "loss: 1.017944  [44864/60000]\n",
      "loss: 1.038031  [51264/60000]\n",
      "loss: 0.962962  [57664/60000]\n",
      "Test Error: \n",
      " Accuracy: 65.7%, Avg loss: 0.986629 \n",
      "\n",
      "Epoch 7\n",
      "-------------------------------\n",
      "loss: 1.049213  [   64/60000]\n",
      "loss: 1.063861  [ 6464/60000]\n",
      "loss: 0.871583  [12864/60000]\n",
      "loss: 1.017781  [19264/60000]\n",
      "loss: 0.895458  [25664/60000]\n",
      "loss: 0.921439  [32064/60000]\n",
      "loss: 0.973336  [38464/60000]\n",
      "loss: 0.941059  [44864/60000]\n",
      "loss: 0.957268  [51264/60000]\n",
      "loss: 0.895988  [57664/60000]\n",
      "Test Error: \n",
      " Accuracy: 66.9%, Avg loss: 0.913544 \n",
      "\n",
      "Epoch 8\n",
      "-------------------------------\n",
      "loss: 0.958904  [   64/60000]\n",
      "loss: 0.994682  [ 6464/60000]\n",
      "loss: 0.787420  [12864/60000]\n",
      "loss: 0.953730  [19264/60000]\n",
      "loss: 0.837693  [25664/60000]\n",
      "loss: 0.851565  [32064/60000]\n",
      "loss: 0.919461  [38464/60000]\n",
      "loss: 0.888596  [44864/60000]\n",
      "loss: 0.898760  [51264/60000]\n",
      "loss: 0.847849  [57664/60000]\n",
      "Test Error: \n",
      " Accuracy: 68.1%, Avg loss: 0.860995 \n",
      "\n",
      "Epoch 9\n",
      "-------------------------------\n",
      "loss: 0.889605  [   64/60000]\n",
      "loss: 0.942994  [ 6464/60000]\n",
      "loss: 0.724850  [12864/60000]\n",
      "loss: 0.905901  [19264/60000]\n",
      "loss: 0.796634  [25664/60000]\n",
      "loss: 0.799288  [32064/60000]\n",
      "loss: 0.878822  [38464/60000]\n",
      "loss: 0.851478  [44864/60000]\n",
      "loss: 0.854727  [51264/60000]\n",
      "loss: 0.811117  [57664/60000]\n",
      "Test Error: \n",
      " Accuracy: 69.2%, Avg loss: 0.821069 \n",
      "\n",
      "Epoch 10\n",
      "-------------------------------\n",
      "loss: 0.834259  [   64/60000]\n",
      "loss: 0.901626  [ 6464/60000]\n",
      "loss: 0.676581  [12864/60000]\n",
      "loss: 0.868656  [19264/60000]\n",
      "loss: 0.765570  [25664/60000]\n",
      "loss: 0.759320  [32064/60000]\n",
      "loss: 0.846024  [38464/60000]\n",
      "loss: 0.823959  [44864/60000]\n",
      "loss: 0.820247  [51264/60000]\n",
      "loss: 0.781565  [57664/60000]\n",
      "Test Error: \n",
      " Accuracy: 70.4%, Avg loss: 0.789261 \n",
      "\n",
      "Done!\n"
     ]
    }
   ],
   "source": [
    "epochs = 10\n",
    "for t in range(epochs):\n",
    "    print(f\"Epoch {t+1}\\n-------------------------------\")\n",
    "    train_loop(train_dataloader, model, loss_fn, optimizer)\n",
    "    test_loop(test_dataloader, model, loss_fn)\n",
    "print(\"Done!\")"
   ]
  },
  {
   "cell_type": "code",
   "execution_count": null,
   "metadata": {},
   "outputs": [],
   "source": []
  }
 ],
 "metadata": {
  "kernelspec": {
   "display_name": "dl_pytorch_env",
   "language": "python",
   "name": "python3"
  },
  "language_info": {
   "codemirror_mode": {
    "name": "ipython",
    "version": 3
   },
   "file_extension": ".py",
   "mimetype": "text/x-python",
   "name": "python",
   "nbconvert_exporter": "python",
   "pygments_lexer": "ipython3",
   "version": "3.12.2"
  }
 },
 "nbformat": 4,
 "nbformat_minor": 2
}
