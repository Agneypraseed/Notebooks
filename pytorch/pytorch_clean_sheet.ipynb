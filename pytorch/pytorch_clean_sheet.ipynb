{
 "cells": [
  {
   "cell_type": "code",
   "execution_count": 4,
   "metadata": {},
   "outputs": [],
   "source": [
    "import torch\n",
    "from torch.utils.data import Dataset, DataLoader\n",
    "\n",
    "import torch.nn as nn"
   ]
  },
  {
   "cell_type": "code",
   "execution_count": 5,
   "metadata": {},
   "outputs": [
    {
     "name": "stdout",
     "output_type": "stream",
     "text": [
      "tensor([[ 0.2809,  0.2855,  0.1491],\n",
      "        [ 1.6699, -0.0231,  0.1176]])\n"
     ]
    }
   ],
   "source": [
    "size = (2, 3)\n",
    "x = torch.randn(*size)  # Creates a tensor with normally distributed random values (mean=0, std=1)\n",
    "print(x)"
   ]
  },
  {
   "cell_type": "code",
   "execution_count": 6,
   "metadata": {},
   "outputs": [
    {
     "name": "stdout",
     "output_type": "stream",
     "text": [
      "Ones tensor: tensor([[1., 1., 1.],\n",
      "        [1., 1., 1.]])\n",
      "Zeros tensor: tensor([[0., 0., 0.],\n",
      "        [0., 0., 0.]])\n"
     ]
    }
   ],
   "source": [
    "x_ones = torch.ones(*size)   # Tensor filled with ones\n",
    "x_zeros = torch.zeros(*size) # Tensor filled with zeros\n",
    "print(\"Ones tensor:\", x_ones)\n",
    "print(\"Zeros tensor:\", x_zeros)"
   ]
  },
  {
   "cell_type": "code",
   "execution_count": 7,
   "metadata": {},
   "outputs": [
    {
     "name": "stdout",
     "output_type": "stream",
     "text": [
      "tensor([[1, 2, 3],\n",
      "        [4, 5, 6]])\n"
     ]
    }
   ],
   "source": [
    "L = [[1, 2, 3], [4, 5, 6]]\n",
    "x = torch.tensor(L)  # Converts a nested list to a tensor\n",
    "print(x)\n"
   ]
  },
  {
   "cell_type": "code",
   "execution_count": 8,
   "metadata": {},
   "outputs": [
    {
     "name": "stdout",
     "output_type": "stream",
     "text": [
      "Original x: tensor([[999,   2,   3],\n",
      "        [  4,   5,   6]])\n",
      "Cloned y: tensor([[1, 2, 3],\n",
      "        [4, 5, 6]])\n"
     ]
    }
   ],
   "source": [
    "y = x.clone()  # Creates a clone of tensor x\n",
    "x[0, 0] = 999  # Modify x to show that y is unaffected\n",
    "print(\"Original x:\", x)\n",
    "print(\"Cloned y:\", y)"
   ]
  },
  {
   "cell_type": "code",
   "execution_count": 10,
   "metadata": {},
   "outputs": [
    {
     "name": "stdout",
     "output_type": "stream",
     "text": [
      "tensor([[-0.8734,  0.0622, -1.0020],\n",
      "        [ 0.1589, -1.3428,  0.3411],\n",
      "        [ 0.7378,  3.3918, -0.3597]], requires_grad=True)\n",
      "Before no_grad block, requires_grad: True\n",
      "Inside no_grad block, requires_grad: False\n",
      "tensor([[-1.7468,  0.1244, -2.0041],\n",
      "        [ 0.3179, -2.6857,  0.6823],\n",
      "        [ 1.4756,  6.7835, -0.7195]])\n",
      "After no_grad block, requires_grad: False\n"
     ]
    }
   ],
   "source": [
    "x = torch.randn(3, 3, requires_grad=True)\n",
    "print(x)\n",
    "print(\"Before no_grad block, requires_grad:\", x.requires_grad)\n",
    "\n",
    "with torch.no_grad():\n",
    "    x = x * 2\n",
    "    print(\"Inside no_grad block, requires_grad:\", x.requires_grad)\n",
    "\n",
    "print(x)\n",
    "print(\"After no_grad block, requires_grad:\", x.requires_grad)"
   ]
  },
  {
   "cell_type": "code",
   "execution_count": 11,
   "metadata": {},
   "outputs": [
    {
     "name": "stdout",
     "output_type": "stream",
     "text": [
      "Gradients of x: tensor([2., 4., 6.])\n"
     ]
    }
   ],
   "source": [
    "x = torch.tensor([1.0, 2.0, 3.0], requires_grad=True)  # Track computation history\n",
    "y = x ** 2  # y = [1, 4, 9]\n",
    "z = y.sum()  # z = 1 + 4 + 9 = 14\n",
    "\n",
    "# Compute gradients\n",
    "z.backward()  # Computes dz/dx\n",
    "print(\"Gradients of x:\", x.grad)"
   ]
  },
  {
   "cell_type": "code",
   "execution_count": 12,
   "metadata": {},
   "outputs": [
    {
     "name": "stdout",
     "output_type": "stream",
     "text": [
      "torch.Size([2, 3, 4])\n"
     ]
    }
   ],
   "source": [
    "x = torch.randn(2, 3, 4)  # A tensor with shape (2, 3, 4)\n",
    "print(x.size())           # Returns the shape of the tensor"
   ]
  },
  {
   "cell_type": "code",
   "execution_count": null,
   "metadata": {},
   "outputs": [],
   "source": []
  }
 ],
 "metadata": {
  "kernelspec": {
   "display_name": "dl_pytorch_env",
   "language": "python",
   "name": "python3"
  },
  "language_info": {
   "codemirror_mode": {
    "name": "ipython",
    "version": 3
   },
   "file_extension": ".py",
   "mimetype": "text/x-python",
   "name": "python",
   "nbconvert_exporter": "python",
   "pygments_lexer": "ipython3",
   "version": "3.12.2"
  }
 },
 "nbformat": 4,
 "nbformat_minor": 2
}
